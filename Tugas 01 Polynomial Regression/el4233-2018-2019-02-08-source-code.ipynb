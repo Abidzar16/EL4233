{
 "cells": [
  {
   "cell_type": "code",
   "execution_count": 1089,
   "metadata": {},
   "outputs": [],
   "source": [
    "# Set up, diambil dari 04_training_linear_models.ipynb"
   ]
  },
  {
   "cell_type": "code",
   "execution_count": 1090,
   "metadata": {},
   "outputs": [
    {
     "name": "stdout",
     "output_type": "stream",
     "text": [
      "Library Imported\n"
     ]
    }
   ],
   "source": [
    "#simple ML\n",
    "# Python ≥3.5 is required\n",
    "import sys\n",
    "assert sys.version_info >= (3, 5)\n",
    "\n",
    "# Common imports\n",
    "import numpy as np\n",
    "import os\n",
    "\n",
    "# to make this notebook's output stable across runs\n",
    "np.random.seed(42)\n",
    "\n",
    "# To plot pretty figures\n",
    "%matplotlib inline\n",
    "import matplotlib as mpl\n",
    "import matplotlib.pyplot as plt\n",
    "mpl.rc('axes', labelsize=14)\n",
    "mpl.rc('xtick', labelsize=12)\n",
    "mpl.rc('ytick', labelsize=12)\n",
    "\n",
    "# Where to save the figures\n",
    "PROJECT_ROOT_DIR = \".\"\n",
    "CHAPTER_ID = \"training_linear_models\"\n",
    "\n",
    "def save_fig(fig_id, tight_layout=True):\n",
    "    path = os.path.join(PROJECT_ROOT_DIR, \"images\", CHAPTER_ID, fig_id + \".png\")\n",
    "    print(\"Saving figure\", fig_id)\n",
    "    if tight_layout:\n",
    "        plt.tight_layout()\n",
    "    plt.savefig(path, format='png', dpi=300)\n",
    "\n",
    "# Ignore useless warnings (see SciPy issue #5998)\n",
    "import warnings\n",
    "warnings.filterwarnings(action=\"ignore\", message=\"^internal gelsd\")\n",
    "\n",
    "print(\"Library Imported\")"
   ]
  },
  {
   "cell_type": "code",
   "execution_count": 1091,
   "metadata": {},
   "outputs": [
    {
     "name": "stdout",
     "output_type": "stream",
     "text": [
      "Library Imported\n"
     ]
    }
   ],
   "source": [
    "import sklearn\n",
    "import math\n",
    "import numpy as np\n",
    "import pandas as pd\n",
    "\n",
    "print(\"Library Imported\")"
   ]
  },
  {
   "cell_type": "markdown",
   "metadata": {},
   "source": [
    "**make random train set**"
   ]
  },
  {
   "cell_type": "code",
   "execution_count": 1092,
   "metadata": {},
   "outputs": [],
   "source": [
    "import random"
   ]
  },
  {
   "cell_type": "code",
   "execution_count": 1093,
   "metadata": {},
   "outputs": [
    {
     "data": {
      "text/plain": [
       "(1000, 2)"
      ]
     },
     "execution_count": 1093,
     "metadata": {},
     "output_type": "execute_result"
    }
   ],
   "source": [
    "df1 = pd.read_csv('el4233-2018-2019-02-01-training.csv',header=None)\n",
    "df1.head()\n",
    "df1.shape"
   ]
  },
  {
   "cell_type": "code",
   "execution_count": 1094,
   "metadata": {},
   "outputs": [
    {
     "data": {
      "text/plain": [
       "(2000, 2)"
      ]
     },
     "execution_count": 1094,
     "metadata": {},
     "output_type": "execute_result"
    }
   ],
   "source": [
    "df2 = pd.read_csv('el4233-2018-2019-02-01-test.csv',header=None)\n",
    "df2.head()\n",
    "df2.shape"
   ]
  },
  {
   "cell_type": "code",
   "execution_count": 1095,
   "metadata": {},
   "outputs": [
    {
     "name": "stdout",
     "output_type": "stream",
     "text": [
      "(700, 1)\n",
      "(700, 1)\n"
     ]
    }
   ],
   "source": [
    "# membuat training set\n",
    "train_x = df1[0].values[0:700].reshape(-1,1)\n",
    "train_y = df1[1].values[0:700].reshape(-1,1)\n",
    "print(train_x.shape)\n",
    "print(train_y.shape)"
   ]
  },
  {
   "cell_type": "code",
   "execution_count": 1096,
   "metadata": {},
   "outputs": [
    {
     "name": "stdout",
     "output_type": "stream",
     "text": [
      "(300, 1)\n",
      "(300, 1)\n"
     ]
    }
   ],
   "source": [
    "# membuat validation set\n",
    "valid_x = df1[0].values[700:1000].reshape(-1,1)\n",
    "valid_y = df1[1].values[700:1000].reshape(-1,1)\n",
    "print(valid_x.shape)\n",
    "print(valid_y.shape)"
   ]
  },
  {
   "cell_type": "code",
   "execution_count": 1097,
   "metadata": {},
   "outputs": [
    {
     "name": "stdout",
     "output_type": "stream",
     "text": [
      "(2000, 1)\n"
     ]
    }
   ],
   "source": [
    "# membuat testing set\n",
    "test_x = df2[1].values[0:].reshape(-1,1)\n",
    "print(test_x.shape)"
   ]
  },
  {
   "cell_type": "code",
   "execution_count": 1098,
   "metadata": {},
   "outputs": [
    {
     "data": {
      "text/plain": [
       "array([[3.60539378e-01, 1.29988643e-01, 4.68660244e-02, ...,\n",
       "        8.15160783e-08, 2.93897561e-08, 1.05961644e-08],\n",
       "       [3.89504830e-02, 1.51714012e-03, 5.90933406e-05, ...,\n",
       "        2.80676178e-23, 1.09324727e-24, 4.25825092e-26],\n",
       "       [9.26437053e-01, 8.58285613e-01, 7.95147594e-01, ...,\n",
       "        2.94479226e-01, 2.72816466e-01, 2.52747283e-01],\n",
       "       ...,\n",
       "       [3.51845089e-01, 1.23794967e-01, 4.35566512e-02, ...,\n",
       "        5.51599554e-08, 1.94077595e-08, 6.82852486e-09],\n",
       "       [6.71964036e-01, 4.51535665e-01, 3.03415728e-01, ...,\n",
       "        1.72797111e-03, 1.16113444e-03, 7.80240583e-04],\n",
       "       [1.98658412e+00, 3.94651645e+00, 7.84008689e+00, ...,\n",
       "        5.88452400e+04, 1.16901019e+05, 2.32233708e+05]])"
      ]
     },
     "execution_count": 1098,
     "metadata": {},
     "output_type": "execute_result"
    }
   ],
   "source": [
    "from sklearn.preprocessing import PolynomialFeatures\n",
    "from sklearn import linear_model\n",
    "\n",
    "derajat_polinom=18\n",
    "poly = PolynomialFeatures(degree=derajat_polinom, include_bias=False)\n",
    "train_x_poly = poly.fit_transform(train_x)\n",
    "train_x_poly"
   ]
  },
  {
   "cell_type": "code",
   "execution_count": 1099,
   "metadata": {},
   "outputs": [
    {
     "name": "stdout",
     "output_type": "stream",
     "text": [
      "Coefficients:  [[ 1.34652667e+02 -4.12990199e+03  6.66713705e+04 -6.22919395e+05\n",
      "   3.75362084e+06 -1.57032824e+07  4.75486422e+07 -1.06644724e+08\n",
      "   1.79609554e+08 -2.28994199e+08  2.21780036e+08 -1.62889978e+08\n",
      "   8.99893457e+07 -3.67569495e+07  1.07595242e+07 -2.13400527e+06\n",
      "   2.56816700e+05 -1.41574387e+04]]\n",
      "Intercept:  [-0.99101299]\n"
     ]
    }
   ],
   "source": [
    "clf = linear_model.LinearRegression()\n",
    "train_y_ = clf.fit(train_x_poly, train_y)\n",
    "# The coefficients\n",
    "print ('Coefficients: ', clf.coef_)\n",
    "print ('Intercept: ',clf.intercept_)"
   ]
  },
  {
   "cell_type": "code",
   "execution_count": 1100,
   "metadata": {},
   "outputs": [
    {
     "name": "stdout",
     "output_type": "stream",
     "text": [
      "Mean absolute error: 0.41\n",
      "Residual sum of squares (MSE): 0.26\n",
      "R2-score: 0.64\n"
     ]
    }
   ],
   "source": [
    "from sklearn.metrics import r2_score\n",
    "\n",
    "valid_x_poly = poly.fit_transform(valid_x)\n",
    "valid_y_ = clf.predict(valid_x_poly)\n",
    "\n",
    "print(\"Mean absolute error: %.2f\" % np.mean(np.absolute(valid_y_ - valid_y)))\n",
    "print(\"Residual sum of squares (MSE): %.2f\" % np.mean((valid_y_ - valid_y) ** 2))\n",
    "print(\"R2-score: %.2f\" % r2_score(valid_y_ , valid_y) )"
   ]
  },
  {
   "cell_type": "code",
   "execution_count": 1101,
   "metadata": {},
   "outputs": [],
   "source": [
    "test_x_poly = poly.fit_transform(test_x)\n",
    "test_y_ = clf.predict(test_x_poly)"
   ]
  },
  {
   "cell_type": "code",
   "execution_count": 1102,
   "metadata": {},
   "outputs": [
    {
     "data": {
      "text/plain": [
       "array([-1.21143395, -0.59178394,  1.30472155, ...,  1.30295056,\n",
       "        0.28718435,  0.54409605])"
      ]
     },
     "execution_count": 1102,
     "metadata": {},
     "output_type": "execute_result"
    }
   ],
   "source": [
    "b = test_y_.ravel()\n",
    "b"
   ]
  },
  {
   "cell_type": "code",
   "execution_count": 1103,
   "metadata": {},
   "outputs": [
    {
     "data": {
      "text/html": [
       "<div>\n",
       "<style scoped>\n",
       "    .dataframe tbody tr th:only-of-type {\n",
       "        vertical-align: middle;\n",
       "    }\n",
       "\n",
       "    .dataframe tbody tr th {\n",
       "        vertical-align: top;\n",
       "    }\n",
       "\n",
       "    .dataframe thead th {\n",
       "        text-align: right;\n",
       "    }\n",
       "</style>\n",
       "<table border=\"1\" class=\"dataframe\">\n",
       "  <thead>\n",
       "    <tr style=\"text-align: right;\">\n",
       "      <th></th>\n",
       "      <th>A</th>\n",
       "      <th>B</th>\n",
       "    </tr>\n",
       "  </thead>\n",
       "  <tbody>\n",
       "    <tr>\n",
       "      <th>0</th>\n",
       "      <td>0.412077</td>\n",
       "      <td>-1.211434</td>\n",
       "    </tr>\n",
       "    <tr>\n",
       "      <th>1</th>\n",
       "      <td>1.408084</td>\n",
       "      <td>-0.591784</td>\n",
       "    </tr>\n",
       "    <tr>\n",
       "      <th>2</th>\n",
       "      <td>0.597636</td>\n",
       "      <td>1.304722</td>\n",
       "    </tr>\n",
       "    <tr>\n",
       "      <th>3</th>\n",
       "      <td>1.057357</td>\n",
       "      <td>0.523369</td>\n",
       "    </tr>\n",
       "    <tr>\n",
       "      <th>4</th>\n",
       "      <td>0.174777</td>\n",
       "      <td>1.821031</td>\n",
       "    </tr>\n",
       "  </tbody>\n",
       "</table>\n",
       "</div>"
      ],
      "text/plain": [
       "          A         B\n",
       "0  0.412077 -1.211434\n",
       "1  1.408084 -0.591784\n",
       "2  0.597636  1.304722\n",
       "3  1.057357  0.523369\n",
       "4  0.174777  1.821031"
      ]
     },
     "execution_count": 1103,
     "metadata": {},
     "output_type": "execute_result"
    }
   ],
   "source": [
    "df3 = pd.DataFrame(columns=['A', 'B'])\n",
    "\n",
    "# Print `df`\n",
    "df3['B'] = b\n",
    "df3['A'] = df2[1]\n",
    "df3.head()"
   ]
  },
  {
   "cell_type": "code",
   "execution_count": 1104,
   "metadata": {},
   "outputs": [],
   "source": [
    "import pandas as pd\n",
    "pd.DataFrame(df3).to_csv(\"el4233-2018-2019-02-01-solution-6.csv\",header=None)"
   ]
  },
  {
   "cell_type": "markdown",
   "metadata": {},
   "source": [
    "### Cara Kerja\n",
    "\n",
    "1. input data training\n",
    "2. input data test\n",
    "3. pada data training, lakukan spliting menjadi dua subdata (subdata traning dan subdata valid)\n",
    "4. lakukan proses PolynomialFeatures pada subdata training, tentukan derajat polinomnya\n",
    "5. lakukan testing dengan memprediksi nilai y pada subdata validasi\n",
    "6. dari proses nomor 5, cari nilai Mean absolute error, Residual sum of squares, dan R2-score dari dua buah paramater : output step 5 dan subdata nilai 5 validasi\n",
    "7. jika dirasa sudah akurat, (dengan melihat nilai Mean absolute error, Residual sum of squares, dan R2-score), prediksikan nilai y pada data test\n",
    "8. buat dataframe baru yang berisi nilai x data test dan prediksi nilai y-nya\n",
    "9. ekspor dalam bentuk csv"
   ]
  },
  {
   "cell_type": "code",
   "execution_count": null,
   "metadata": {},
   "outputs": [],
   "source": []
  }
 ],
 "metadata": {
  "kernelspec": {
   "display_name": "Python 3",
   "language": "python",
   "name": "python3"
  },
  "language_info": {
   "codemirror_mode": {
    "name": "ipython",
    "version": 3
   },
   "file_extension": ".py",
   "mimetype": "text/x-python",
   "name": "python",
   "nbconvert_exporter": "python",
   "pygments_lexer": "ipython3",
   "version": "3.7.1"
  }
 },
 "nbformat": 4,
 "nbformat_minor": 2
}
